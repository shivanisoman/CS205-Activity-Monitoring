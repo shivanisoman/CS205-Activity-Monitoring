{
 "cells": [
  {
   "cell_type": "code",
   "execution_count": 1,
   "metadata": {
    "scrolled": true
   },
   "outputs": [],
   "source": [
    "import numpy as np\n",
    "import pandas as pd\n",
    "from sklearn.ensemble import RandomForestClassifier\n",
    "from sklearn.linear_model import LogisticRegression\n",
    "from sklearn.svm import LinearSVC\n",
    "from sklearn.metrics import accuracy_score\n",
    "from sklearn.model_selection import train_test_split\n",
    "from sklearn.tree import DecisionTreeClassifier\n",
    "from sklearn.naive_bayes import MultinomialNB\n",
    "from sklearn.neural_network import MLPClassifier\n",
    "from sklearn.preprocessing import MinMaxScaler\n",
    "from sklearn.metrics import classification_report, confusion_matrix, f1_score\n",
    "import tensorflow as tf\n",
    "import matplotlib.pyplot as plt\n",
    "from scipy import stats\n",
    "import seaborn as sns\n",
    "from pylab import rcParams"
   ]
  },
  {
   "cell_type": "code",
   "execution_count": 2,
   "metadata": {},
   "outputs": [],
   "source": [
    "dataset = pd.read_csv('Documents/new_processed_data_acc_ori_gyr_jayanth.csv')\n",
    "df = dataset.dropna()\n",
    "\n",
    "dataset2 = pd.read_csv('Documents/new_processed_data_acc_ori_gyr_our.csv')\n",
    "df2 = dataset2.dropna()\n",
    "\n",
    "dataset3 = pd.read_csv('Documents/new_processed_data_acc_ori_gyr_shweta.csv')\n",
    "df3 = dataset3.dropna()\n",
    "\n",
    "dataset4 = pd.read_csv('Documents/new_processed_data_acc_ori_gyr_jeet.csv')\n",
    "df4 = dataset4.dropna()\n",
    "\n",
    "dataset5 = pd.read_csv('Documents/new_processed_data_acc_ori_gyr_jeet2.csv')\n",
    "df5 = dataset5.dropna()\n"
   ]
  },
  {
   "cell_type": "code",
   "execution_count": 3,
   "metadata": {},
   "outputs": [],
   "source": [
    "df_all = pd.concat([df,df3,df4,df5])"
   ]
  },
  {
   "cell_type": "code",
   "execution_count": 4,
   "metadata": {},
   "outputs": [
    {
     "name": "stdout",
     "output_type": "stream",
     "text": [
      "Index(['Timestamp', ' acc_xmean', ' acc_ymean', ' acc_zmean', ' acc_xstd',\n",
      "       ' acc_ystd', ' acc_zstd', ' acc_xmax', ' acc_ymax', ' acc_zmax',\n",
      "       ' acc_xmin', ' acc_ymin', ' acc_zmin', ' acc_class', ' gyr_xmean',\n",
      "       ' gyr_ymean', ' gyr_zmean', ' gyr_xstd', ' gyr_ystd', ' gyr_zstd',\n",
      "       ' gyr_xmax', ' gyr_ymax', ' gyr_zmax', ' gyr_xmin', ' gyr_ymin',\n",
      "       ' gyr_zmin', ' gyr_class', ' ori_xmean', ' ori_ymean', ' ori_zmean',\n",
      "       ' ori_xstd', ' ori_ystd', ' ori_zstd', ' ori_xmax', ' ori_ymax',\n",
      "       ' ori_zmax', ' ori_xmin', ' ori_ymin', ' ori_zmin', ' ori_class '],\n",
      "      dtype='object')\n"
     ]
    }
   ],
   "source": [
    "print(df_all.columns)"
   ]
  },
  {
   "cell_type": "code",
   "execution_count": 5,
   "metadata": {},
   "outputs": [],
   "source": [
    "df_all.head()\n",
    "df_all.columns\n",
    "df_all2 = df_all[df_all[' ori_class '] != 'null']\n"
   ]
  },
  {
   "cell_type": "code",
   "execution_count": 6,
   "metadata": {},
   "outputs": [],
   "source": [
    "df_test = df2[df2[' ori_class '] != 'null']"
   ]
  },
  {
   "cell_type": "code",
   "execution_count": 7,
   "metadata": {},
   "outputs": [
    {
     "data": {
      "text/html": [
       "<div>\n",
       "<style scoped>\n",
       "    .dataframe tbody tr th:only-of-type {\n",
       "        vertical-align: middle;\n",
       "    }\n",
       "\n",
       "    .dataframe tbody tr th {\n",
       "        vertical-align: top;\n",
       "    }\n",
       "\n",
       "    .dataframe thead th {\n",
       "        text-align: right;\n",
       "    }\n",
       "</style>\n",
       "<table border=\"1\" class=\"dataframe\">\n",
       "  <thead>\n",
       "    <tr style=\"text-align: right;\">\n",
       "      <th></th>\n",
       "      <th>Timestamp</th>\n",
       "      <th>acc_xmean</th>\n",
       "      <th>acc_ymean</th>\n",
       "      <th>acc_zmean</th>\n",
       "      <th>acc_xstd</th>\n",
       "      <th>acc_ystd</th>\n",
       "      <th>acc_zstd</th>\n",
       "      <th>acc_xmax</th>\n",
       "      <th>acc_ymax</th>\n",
       "      <th>acc_zmax</th>\n",
       "      <th>...</th>\n",
       "      <th>ori_xstd</th>\n",
       "      <th>ori_ystd</th>\n",
       "      <th>ori_zstd</th>\n",
       "      <th>ori_xmax</th>\n",
       "      <th>ori_ymax</th>\n",
       "      <th>ori_zmax</th>\n",
       "      <th>ori_xmin</th>\n",
       "      <th>ori_ymin</th>\n",
       "      <th>ori_zmin</th>\n",
       "      <th>ori_class</th>\n",
       "    </tr>\n",
       "  </thead>\n",
       "  <tbody>\n",
       "    <tr>\n",
       "      <th>0</th>\n",
       "      <td>1520315642223_1520315646223</td>\n",
       "      <td>0.315889</td>\n",
       "      <td>-1.645279</td>\n",
       "      <td>7.579263</td>\n",
       "      <td>3.214543</td>\n",
       "      <td>4.971555</td>\n",
       "      <td>2.669365</td>\n",
       "      <td>11.312344</td>\n",
       "      <td>3.049498</td>\n",
       "      <td>18.359220</td>\n",
       "      <td>...</td>\n",
       "      <td>107.745013</td>\n",
       "      <td>42.379563</td>\n",
       "      <td>30.144744</td>\n",
       "      <td>359.999700</td>\n",
       "      <td>31.268667</td>\n",
       "      <td>81.459230</td>\n",
       "      <td>-0.000000</td>\n",
       "      <td>-128.087110</td>\n",
       "      <td>-13.776710</td>\n",
       "      <td>sitting</td>\n",
       "    </tr>\n",
       "    <tr>\n",
       "      <th>1</th>\n",
       "      <td>1520315646223_1520315650223</td>\n",
       "      <td>-2.481922</td>\n",
       "      <td>-8.678849</td>\n",
       "      <td>4.014229</td>\n",
       "      <td>0.259851</td>\n",
       "      <td>0.248557</td>\n",
       "      <td>0.435259</td>\n",
       "      <td>1.019691</td>\n",
       "      <td>-6.458041</td>\n",
       "      <td>9.742115</td>\n",
       "      <td>...</td>\n",
       "      <td>25.282045</td>\n",
       "      <td>13.957877</td>\n",
       "      <td>19.516883</td>\n",
       "      <td>348.611020</td>\n",
       "      <td>66.533320</td>\n",
       "      <td>83.089540</td>\n",
       "      <td>4.995914</td>\n",
       "      <td>-33.325333</td>\n",
       "      <td>15.406474</td>\n",
       "      <td>sitting</td>\n",
       "    </tr>\n",
       "    <tr>\n",
       "      <th>2</th>\n",
       "      <td>1520315650223_1520315654223</td>\n",
       "      <td>2.320864</td>\n",
       "      <td>-6.358494</td>\n",
       "      <td>3.739560</td>\n",
       "      <td>4.694261</td>\n",
       "      <td>3.292626</td>\n",
       "      <td>2.955463</td>\n",
       "      <td>10.354887</td>\n",
       "      <td>2.704813</td>\n",
       "      <td>8.401677</td>\n",
       "      <td>...</td>\n",
       "      <td>6.349352</td>\n",
       "      <td>22.021231</td>\n",
       "      <td>32.094950</td>\n",
       "      <td>88.021270</td>\n",
       "      <td>127.641040</td>\n",
       "      <td>15.536949</td>\n",
       "      <td>57.741127</td>\n",
       "      <td>2.026753</td>\n",
       "      <td>-62.501076</td>\n",
       "      <td>sitting</td>\n",
       "    </tr>\n",
       "    <tr>\n",
       "      <th>3</th>\n",
       "      <td>1520315654223_1520315658223</td>\n",
       "      <td>6.527179</td>\n",
       "      <td>-4.062275</td>\n",
       "      <td>4.178595</td>\n",
       "      <td>1.594441</td>\n",
       "      <td>3.545704</td>\n",
       "      <td>3.794829</td>\n",
       "      <td>11.187874</td>\n",
       "      <td>7.568690</td>\n",
       "      <td>10.421909</td>\n",
       "      <td>...</td>\n",
       "      <td>6.743819</td>\n",
       "      <td>26.489241</td>\n",
       "      <td>9.034738</td>\n",
       "      <td>102.257100</td>\n",
       "      <td>109.734450</td>\n",
       "      <td>-19.463050</td>\n",
       "      <td>77.679790</td>\n",
       "      <td>10.640762</td>\n",
       "      <td>-58.251316</td>\n",
       "      <td>sitting</td>\n",
       "    </tr>\n",
       "    <tr>\n",
       "      <th>4</th>\n",
       "      <td>1520315658223_1520315662223</td>\n",
       "      <td>3.781867</td>\n",
       "      <td>-7.256935</td>\n",
       "      <td>3.771565</td>\n",
       "      <td>1.542096</td>\n",
       "      <td>2.999233</td>\n",
       "      <td>3.374467</td>\n",
       "      <td>9.397431</td>\n",
       "      <td>12.317672</td>\n",
       "      <td>16.999632</td>\n",
       "      <td>...</td>\n",
       "      <td>6.442724</td>\n",
       "      <td>20.910975</td>\n",
       "      <td>12.131508</td>\n",
       "      <td>107.747665</td>\n",
       "      <td>95.800575</td>\n",
       "      <td>-14.423980</td>\n",
       "      <td>79.994090</td>\n",
       "      <td>12.158220</td>\n",
       "      <td>-61.458770</td>\n",
       "      <td>sitting</td>\n",
       "    </tr>\n",
       "  </tbody>\n",
       "</table>\n",
       "<p>5 rows × 40 columns</p>\n",
       "</div>"
      ],
      "text/plain": [
       "                     Timestamp   acc_xmean   acc_ymean   acc_zmean   acc_xstd  \\\n",
       "0  1520315642223_1520315646223    0.315889   -1.645279    7.579263   3.214543   \n",
       "1  1520315646223_1520315650223   -2.481922   -8.678849    4.014229   0.259851   \n",
       "2  1520315650223_1520315654223    2.320864   -6.358494    3.739560   4.694261   \n",
       "3  1520315654223_1520315658223    6.527179   -4.062275    4.178595   1.594441   \n",
       "4  1520315658223_1520315662223    3.781867   -7.256935    3.771565   1.542096   \n",
       "\n",
       "    acc_ystd   acc_zstd   acc_xmax   acc_ymax   acc_zmax     ...       \\\n",
       "0   4.971555   2.669365  11.312344   3.049498  18.359220     ...        \n",
       "1   0.248557   0.435259   1.019691  -6.458041   9.742115     ...        \n",
       "2   3.292626   2.955463  10.354887   2.704813   8.401677     ...        \n",
       "3   3.545704   3.794829  11.187874   7.568690  10.421909     ...        \n",
       "4   2.999233   3.374467   9.397431  12.317672  16.999632     ...        \n",
       "\n",
       "     ori_xstd   ori_ystd   ori_zstd    ori_xmax    ori_ymax   ori_zmax  \\\n",
       "0  107.745013  42.379563  30.144744  359.999700   31.268667  81.459230   \n",
       "1   25.282045  13.957877  19.516883  348.611020   66.533320  83.089540   \n",
       "2    6.349352  22.021231  32.094950   88.021270  127.641040  15.536949   \n",
       "3    6.743819  26.489241   9.034738  102.257100  109.734450 -19.463050   \n",
       "4    6.442724  20.910975  12.131508  107.747665   95.800575 -14.423980   \n",
       "\n",
       "    ori_xmin    ori_ymin   ori_zmin   ori_class   \n",
       "0  -0.000000 -128.087110 -13.776710      sitting  \n",
       "1   4.995914  -33.325333  15.406474      sitting  \n",
       "2  57.741127    2.026753 -62.501076      sitting  \n",
       "3  77.679790   10.640762 -58.251316      sitting  \n",
       "4  79.994090   12.158220 -61.458770      sitting  \n",
       "\n",
       "[5 rows x 40 columns]"
      ]
     },
     "execution_count": 7,
     "metadata": {},
     "output_type": "execute_result"
    }
   ],
   "source": [
    "df_all2.head()"
   ]
  },
  {
   "cell_type": "code",
   "execution_count": 8,
   "metadata": {},
   "outputs": [
    {
     "name": "stderr",
     "output_type": "stream",
     "text": [
      "c:\\users\\shivu.soman\\anaconda3\\envs\\tensorflow\\lib\\site-packages\\scipy\\stats\\stats.py:245: RuntimeWarning: The input array could not be properly checked for nan values. nan values will be ignored.\n",
      "  \"values. nan values will be ignored.\", RuntimeWarning)\n"
     ]
    }
   ],
   "source": [
    "N_TIME_STEPS = 10\n",
    "N_FEATURES = 15\n",
    "step = 1\n",
    "segments = []\n",
    "labels = []\n",
    "for i in range(0, len(df_all2) - N_TIME_STEPS, step):\n",
    "    axmean = df_all2[' acc_xmean'].values[i: i + N_TIME_STEPS]\n",
    "    axstd = df_all2[' acc_xstd'].values[i: i + N_TIME_STEPS]\n",
    "    aystd = df_all2[' acc_ystd'].values[i: i + N_TIME_STEPS]\n",
    "    azstd = df_all2[' acc_zstd'].values[i: i + N_TIME_STEPS]\n",
    "    axmax = df_all2[' acc_xmax'].values[i: i + N_TIME_STEPS]\n",
    "    axmin = df_all2[' acc_xmin'].values[i: i + N_TIME_STEPS]\n",
    "    gxstd = df_all2[' gyr_xstd'].values[i: i + N_TIME_STEPS]\n",
    "    gystd = df_all2[' gyr_ystd'].values[i: i + N_TIME_STEPS]\n",
    "    gzstd = df_all2[' gyr_zstd'].values[i: i + N_TIME_STEPS]\n",
    "    gzmax = df_all2[' gyr_zmax'].values[i: i + N_TIME_STEPS]\n",
    "    gzmin = df_all2[' gyr_zmin'].values[i: i + N_TIME_STEPS]\n",
    "    ozmean = df_all2[' ori_zmean'].values[i: i + N_TIME_STEPS]\n",
    "    oxstd = df_all2[' ori_xstd'].values[i: i + N_TIME_STEPS]\n",
    "    ozmax = df_all2[' ori_zmax'].values[i: i + N_TIME_STEPS]\n",
    "    ozmin = df_all2[' ori_zmin'].values[i: i + N_TIME_STEPS]\n",
    "    label = stats.mode(df_all2[' ori_class '][i: i + N_TIME_STEPS])[0][0]\n",
    "    segments.append([axmean,axstd,aystd,azstd,axmax,axmin,gxstd,gystd,gzstd,gzmax,gzmin,ozmean,oxstd,ozmax,ozmin])\n",
    "    labels.append(label)"
   ]
  },
  {
   "cell_type": "code",
   "execution_count": 9,
   "metadata": {},
   "outputs": [
    {
     "name": "stderr",
     "output_type": "stream",
     "text": [
      "c:\\users\\shivu.soman\\anaconda3\\envs\\tensorflow\\lib\\site-packages\\scipy\\stats\\stats.py:245: RuntimeWarning: The input array could not be properly checked for nan values. nan values will be ignored.\n",
      "  \"values. nan values will be ignored.\", RuntimeWarning)\n"
     ]
    }
   ],
   "source": [
    "N_TIME_STEPS = 10\n",
    "N_FEATURES = 15\n",
    "step = 1\n",
    "segments2 = []\n",
    "labels2 = []\n",
    "for i in range(0, len(df_test) - N_TIME_STEPS, step):\n",
    "    axmean = df_test[' acc_xmean'].values[i: i + N_TIME_STEPS]\n",
    "    axstd = df_test[' acc_xstd'].values[i: i + N_TIME_STEPS]\n",
    "    aystd = df_test[' acc_ystd'].values[i: i + N_TIME_STEPS]\n",
    "    azstd = df_test[' acc_zstd'].values[i: i + N_TIME_STEPS]\n",
    "    axmax = df_test[' acc_xmax'].values[i: i + N_TIME_STEPS]\n",
    "    axmin = df_test[' acc_xmin'].values[i: i + N_TIME_STEPS]\n",
    "    gxstd = df_test[' gyr_xstd'].values[i: i + N_TIME_STEPS]\n",
    "    gystd = df_test[' gyr_ystd'].values[i: i + N_TIME_STEPS]\n",
    "    gzstd = df_test[' gyr_zstd'].values[i: i + N_TIME_STEPS]\n",
    "    gzmax = df_test[' gyr_zmax'].values[i: i + N_TIME_STEPS]\n",
    "    gzmin = df_test[' gyr_zmin'].values[i: i + N_TIME_STEPS]\n",
    "    ozmean = df_test[' ori_zmean'].values[i: i + N_TIME_STEPS]\n",
    "    oxstd = df_test[' ori_xstd'].values[i: i + N_TIME_STEPS]\n",
    "    ozmax = df_test[' ori_zmax'].values[i: i + N_TIME_STEPS]\n",
    "    ozmin = df_test[' ori_zmin'].values[i: i + N_TIME_STEPS]\n",
    "    label = stats.mode(df_test[' ori_class '][i: i + N_TIME_STEPS])[0][0]\n",
    "    segments2.append([axmean,axstd,aystd,azstd,axmax,axmin,gxstd,gystd,gzstd,gzmax,gzmin,ozmean,oxstd,ozmax,ozmin])\n",
    "    labels2.append(label)"
   ]
  },
  {
   "cell_type": "code",
   "execution_count": 10,
   "metadata": {},
   "outputs": [
    {
     "data": {
      "text/plain": [
       "(16280, 15, 10)"
      ]
     },
     "execution_count": 10,
     "metadata": {},
     "output_type": "execute_result"
    }
   ],
   "source": [
    "np.array(segments).shape"
   ]
  },
  {
   "cell_type": "code",
   "execution_count": 11,
   "metadata": {},
   "outputs": [
    {
     "data": {
      "text/plain": [
       "(1938, 15, 10)"
      ]
     },
     "execution_count": 11,
     "metadata": {},
     "output_type": "execute_result"
    }
   ],
   "source": [
    "np.array(segments2).shape"
   ]
  },
  {
   "cell_type": "code",
   "execution_count": 12,
   "metadata": {},
   "outputs": [],
   "source": [
    "reshaped_segments = np.asarray(segments, dtype= np.float32).reshape(-1, N_TIME_STEPS, N_FEATURES)\n",
    "labels = np.asarray(pd.get_dummies(labels), dtype = np.float32)"
   ]
  },
  {
   "cell_type": "code",
   "execution_count": 13,
   "metadata": {},
   "outputs": [],
   "source": [
    "reshaped_segments2 = np.asarray(segments2, dtype= np.float32).reshape(-1, N_TIME_STEPS, N_FEATURES)\n",
    "labels2 = np.asarray(pd.get_dummies(labels2), dtype = np.float32)"
   ]
  },
  {
   "cell_type": "code",
   "execution_count": 14,
   "metadata": {},
   "outputs": [
    {
     "data": {
      "text/plain": [
       "(16280, 10, 15)"
      ]
     },
     "execution_count": 14,
     "metadata": {},
     "output_type": "execute_result"
    }
   ],
   "source": [
    "reshaped_segments.shape"
   ]
  },
  {
   "cell_type": "code",
   "execution_count": 15,
   "metadata": {},
   "outputs": [
    {
     "data": {
      "text/plain": [
       "(1938, 10, 15)"
      ]
     },
     "execution_count": 15,
     "metadata": {},
     "output_type": "execute_result"
    }
   ],
   "source": [
    "reshaped_segments2.shape"
   ]
  },
  {
   "cell_type": "code",
   "execution_count": 16,
   "metadata": {},
   "outputs": [],
   "source": [
    "X_test2 = reshaped_segments2\n",
    "y_test2 = labels2"
   ]
  },
  {
   "cell_type": "code",
   "execution_count": 17,
   "metadata": {},
   "outputs": [],
   "source": [
    "X_train = reshaped_segments\n",
    "y_train = labels"
   ]
  },
  {
   "cell_type": "code",
   "execution_count": 18,
   "metadata": {},
   "outputs": [],
   "source": [
    "N_CLASSES = 4\n",
    "N_HIDDEN_UNITS = 64\n",
    "def create_LSTM_model(inputs):\n",
    "    W = {\n",
    "        'hidden': tf.Variable(tf.random_normal([N_FEATURES, N_HIDDEN_UNITS])),\n",
    "        'output': tf.Variable(tf.random_normal([N_HIDDEN_UNITS, N_CLASSES]))\n",
    "    }\n",
    "    biases = {\n",
    "        'hidden': tf.Variable(tf.random_normal([N_HIDDEN_UNITS], mean=1.0)),\n",
    "        'output': tf.Variable(tf.random_normal([N_CLASSES]))\n",
    "    }\n",
    "    \n",
    "    X = tf.transpose(inputs, [1, 0, 2])\n",
    "    X = tf.reshape(X, [-1, N_FEATURES])\n",
    "    hidden = tf.nn.relu(tf.matmul(X, W['hidden']) + biases['hidden'])\n",
    "    hidden = tf.split(hidden, N_TIME_STEPS, 0)\n",
    "\n",
    "    # Stack 2 LSTM layers\n",
    "    lstm_layers = [tf.contrib.rnn.BasicLSTMCell(N_HIDDEN_UNITS, forget_bias=1.0) for _ in range(2)]\n",
    "    lstm_layers = tf.contrib.rnn.MultiRNNCell(lstm_layers)\n",
    "\n",
    "    outputs, _ = tf.contrib.rnn.static_rnn(lstm_layers, hidden, dtype=tf.float32)\n",
    "\n",
    "    # Get output for the last time step\n",
    "    lstm_last_output = outputs[-1]\n",
    "\n",
    "    return tf.matmul(lstm_last_output, W['output']) + biases['output']"
   ]
  },
  {
   "cell_type": "code",
   "execution_count": 19,
   "metadata": {},
   "outputs": [],
   "source": [
    "tf.reset_default_graph()\n",
    "\n",
    "X = tf.placeholder(tf.float32, [None, N_TIME_STEPS, N_FEATURES], name=\"input\")\n",
    "Y = tf.placeholder(tf.float32, [None, N_CLASSES])"
   ]
  },
  {
   "cell_type": "code",
   "execution_count": 20,
   "metadata": {},
   "outputs": [],
   "source": [
    "pred_Y = create_LSTM_model(X)\n",
    "pred_softmax = tf.nn.softmax(pred_Y, name=\"y_\")"
   ]
  },
  {
   "cell_type": "code",
   "execution_count": 21,
   "metadata": {},
   "outputs": [
    {
     "name": "stdout",
     "output_type": "stream",
     "text": [
      "WARNING:tensorflow:From <ipython-input-21-db3244a7ac54>:5: softmax_cross_entropy_with_logits (from tensorflow.python.ops.nn_ops) is deprecated and will be removed in a future version.\n",
      "Instructions for updating:\n",
      "\n",
      "Future major versions of TensorFlow will allow gradients to flow\n",
      "into the labels input on backprop by default.\n",
      "\n",
      "See tf.nn.softmax_cross_entropy_with_logits_v2.\n",
      "\n"
     ]
    }
   ],
   "source": [
    "L2_LOSS = 0.0015\n",
    "\n",
    "l2 = L2_LOSS * \\\n",
    "    sum(tf.nn.l2_loss(tf_var) for tf_var in tf.trainable_variables())\n",
    "\n",
    "loss = tf.reduce_mean(tf.nn.softmax_cross_entropy_with_logits(logits = pred_Y, labels = Y)) + l2"
   ]
  },
  {
   "cell_type": "code",
   "execution_count": 22,
   "metadata": {},
   "outputs": [],
   "source": [
    "LEARNING_RATE = 0.0025\n",
    "\n",
    "optimizer = tf.train.AdamOptimizer(learning_rate=LEARNING_RATE).minimize(loss)\n",
    "\n",
    "correct_pred = tf.equal(tf.argmax(pred_softmax, 1), tf.argmax(Y, 1))\n",
    "accuracy = tf.reduce_mean(tf.cast(correct_pred, dtype=tf.float32))"
   ]
  },
  {
   "cell_type": "code",
   "execution_count": 25,
   "metadata": {},
   "outputs": [
    {
     "name": "stdout",
     "output_type": "stream",
     "text": [
      "epoch:  1 test accuracy:  0.5954592 loss:  2.1310213\n",
      "epoch:  2 test accuracy:  0.6346749 loss:  2.0681312\n",
      "epoch:  3 test accuracy:  0.6408669 loss:  1.9749469\n",
      "epoch:  4 test accuracy:  0.6418989 loss:  1.9279492\n",
      "epoch:  5 test accuracy:  0.64963883 loss:  1.8832202\n",
      "epoch:  6 test accuracy:  0.65325075 loss:  1.8507795\n",
      "epoch:  7 test accuracy:  0.6651187 loss:  1.8479602\n",
      "epoch:  8 test accuracy:  0.6310629 loss:  1.8158519\n",
      "epoch:  9 test accuracy:  0.65583074 loss:  1.7847278\n",
      "epoch:  10 test accuracy:  0.6692467 loss:  1.775243\n",
      "epoch:  11 test accuracy:  0.6676987 loss:  1.7401392\n",
      "epoch:  12 test accuracy:  0.6759546 loss:  1.7249904\n",
      "epoch:  13 test accuracy:  0.6775026 loss:  1.6982076\n",
      "epoch:  14 test accuracy:  0.6759546 loss:  1.6895344\n",
      "epoch:  15 test accuracy:  0.68421054 loss:  1.6574376\n",
      "epoch:  16 test accuracy:  0.6867905 loss:  1.6442175\n",
      "epoch:  17 test accuracy:  0.6873065 loss:  1.6349964\n",
      "epoch:  18 test accuracy:  0.69349843 loss:  1.6042583\n",
      "epoch:  19 test accuracy:  0.7002064 loss:  1.5827031\n",
      "epoch:  20 test accuracy:  0.6971104 loss:  1.5743148\n",
      "epoch:  21 test accuracy:  0.7002064 loss:  1.5578182\n",
      "epoch:  22 test accuracy:  0.6996904 loss:  1.5474912\n",
      "epoch:  23 test accuracy:  0.7033024 loss:  1.525351\n",
      "epoch:  24 test accuracy:  0.7022704 loss:  1.5068873\n",
      "epoch:  25 test accuracy:  0.7234262 loss:  1.4969497\n",
      "epoch:  26 test accuracy:  0.7347781 loss:  1.4888961\n",
      "epoch:  27 test accuracy:  0.72033024 loss:  1.4796154\n",
      "epoch:  28 test accuracy:  0.7373581 loss:  1.4468784\n",
      "epoch:  29 test accuracy:  0.74303406 loss:  1.4339457\n",
      "epoch:  30 test accuracy:  0.75541794 loss:  1.4336483\n",
      "epoch:  31 test accuracy:  0.75593394 loss:  1.3863204\n",
      "epoch:  32 test accuracy:  0.71465427 loss:  1.4022853\n",
      "epoch:  33 test accuracy:  0.7027864 loss:  1.4024224\n",
      "epoch:  34 test accuracy:  0.7337461 loss:  1.3915844\n",
      "epoch:  35 test accuracy:  0.7048504 loss:  1.3912919\n",
      "epoch:  36 test accuracy:  0.74613005 loss:  1.3732994\n",
      "epoch:  37 test accuracy:  0.7585139 loss:  1.3384404\n",
      "epoch:  38 test accuracy:  0.7610939 loss:  1.3352363\n",
      "epoch:  39 test accuracy:  0.7600619 loss:  1.3283046\n",
      "epoch:  40 test accuracy:  0.7688339 loss:  1.3209637\n",
      "epoch:  41 test accuracy:  0.7223942 loss:  1.3255376\n",
      "epoch:  42 test accuracy:  0.70897835 loss:  1.3231115\n",
      "epoch:  43 test accuracy:  0.7100103 loss:  1.3164964\n",
      "epoch:  44 test accuracy:  0.75799793 loss:  1.2835032\n",
      "epoch:  45 test accuracy:  0.78586173 loss:  1.2529006\n",
      "epoch:  46 test accuracy:  0.7765738 loss:  1.2558783\n",
      "epoch:  47 test accuracy:  0.7693499 loss:  1.2548804\n",
      "epoch:  48 test accuracy:  0.7631579 loss:  1.2595525\n",
      "epoch:  49 test accuracy:  0.71620226 loss:  1.2637105\n",
      "epoch:  50 test accuracy:  0.7698659 loss:  1.2310404\n",
      "\n",
      "final results: accuracy:  0.7698659 loss:  1.2310404\n"
     ]
    }
   ],
   "source": [
    "N_EPOCHS = 50\n",
    "BATCH_SIZE = 1024\n",
    "saver = tf.train.Saver()\n",
    "\n",
    "history = dict(train_loss=[], \n",
    "                     train_acc=[], \n",
    "                     test_loss=[], \n",
    "                     test_acc=[])\n",
    "\n",
    "sess=tf.InteractiveSession()\n",
    "sess.run(tf.global_variables_initializer())\n",
    "\n",
    "train_count = len(X_train)\n",
    "\n",
    "for i in range(1, N_EPOCHS + 1):\n",
    "    for start, end in zip(range(0, train_count, BATCH_SIZE),\n",
    "                          range(BATCH_SIZE, train_count + 1,BATCH_SIZE)):\n",
    "        sess.run(optimizer, feed_dict={X: X_train[start:end],\n",
    "                                       Y: y_train[start:end]})\n",
    "\n",
    "    _, acc_train, loss_train = sess.run([pred_softmax, accuracy, loss], feed_dict={\n",
    "                                            X: X_train, Y: y_train})\n",
    "\n",
    "    _, acc_test, loss_test = sess.run([pred_softmax, accuracy, loss], feed_dict={\n",
    "                                            X: X_test2, Y: y_test2})\n",
    "\n",
    "    history['train_loss'].append(loss_train)\n",
    "    history['train_acc'].append(acc_train)\n",
    "    history['test_loss'].append(loss_test)\n",
    "    history['test_acc'].append(acc_test)\n",
    "\n",
    "    #if i != 1 and i % 10 != 0:\n",
    "    #   continue\n",
    "\n",
    "    print('epoch: ',i ,'test accuracy: ',acc_test ,'loss: ',loss_test)\n",
    "    \n",
    "predictions, acc_final, loss_final = sess.run([pred_softmax, accuracy, loss], feed_dict={X: X_test2, Y: y_test2})\n",
    "\n",
    "print()\n",
    "print('final results: accuracy: ',acc_final, 'loss: ',loss_final)"
   ]
  },
  {
   "cell_type": "code",
   "execution_count": 26,
   "metadata": {},
   "outputs": [],
   "source": [
    "predictions, acc_final, loss_final = sess.run([pred_softmax, accuracy, loss], feed_dict={X: X_test2, Y: y_test2})"
   ]
  },
  {
   "cell_type": "code",
   "execution_count": 27,
   "metadata": {},
   "outputs": [
    {
     "name": "stdout",
     "output_type": "stream",
     "text": [
      "final results: accuracy:  0.7698659 loss:  1.2310404\n"
     ]
    }
   ],
   "source": [
    "print('final results: accuracy: ',acc_final, 'loss: ',loss_final)"
   ]
  },
  {
   "cell_type": "code",
   "execution_count": 28,
   "metadata": {},
   "outputs": [
    {
     "name": "stdout",
     "output_type": "stream",
     "text": [
      "             precision    recall  f1-score   support\n",
      "\n",
      "          0       0.79      0.52      0.63       533\n",
      "          1       0.59      0.82      0.69       515\n",
      "          2       0.87      0.83      0.85       506\n",
      "          3       0.96      0.98      0.97       384\n",
      "\n",
      "avg / total       0.79      0.77      0.77      1938\n",
      "\n",
      "0.7815282934148886\n"
     ]
    }
   ],
   "source": [
    "max_test = np.argmax(y_test2, axis=1)\n",
    "max_predictions = np.argmax(predictions, axis=1)\n",
    "print(classification_report(max_test,max_predictions))\n",
    "print(f1_score(max_test,max_predictions,average=\"macro\"))"
   ]
  },
  {
   "cell_type": "code",
   "execution_count": 29,
   "metadata": {},
   "outputs": [
    {
     "data": {
      "image/png": "[encoded data removed]",
      "text/plain": [
       "<Figure size 720x720 with 2 Axes>"
      ]
     },
     "metadata": {},
     "output_type": "display_data"
    }
   ],
   "source": [
    "LABELS = ['Laying Down', 'Sitting', 'Standing', 'Walking']\n",
    "confusion_matrix = confusion_matrix(max_test, max_predictions)\n",
    "plt.figure(figsize=(10, 10))\n",
    "sns.heatmap(confusion_matrix, xticklabels=LABELS, yticklabels=LABELS, annot=True, fmt=\"d\");\n",
    "plt.title(\"Confusion matrix\")\n",
    "plt.ylabel('True label')\n",
    "plt.xlabel('Predicted label')\n",
    "plt.show();"
   ]
  },
  {
   "cell_type": "code",
   "execution_count": null,
   "metadata": {},
   "outputs": [],
   "source": []
  }
 ],
 "metadata": {
  "kernelspec": {
   "display_name": "Python 3",
   "language": "python",
   "name": "python3"
  },
  "language_info": {
   "codemirror_mode": {
    "name": "ipython",
    "version": 3
   },
   "file_extension": ".py",
   "mimetype": "text/x-python",
   "name": "python",
   "nbconvert_exporter": "python",
   "pygments_lexer": "ipython3",
   "version": "3.5.4"
  }
 },
 "nbformat": 4,
 "nbformat_minor": 2
}
